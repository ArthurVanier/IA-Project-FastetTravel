{
 "cells": [
  {
   "cell_type": "code",
   "execution_count": 16,
   "metadata": {},
   "outputs": [
    {
     "name": "stderr",
     "output_type": "stream",
     "text": [
      "/var/folders/_z/51xkbm4139b206gcdc8fxpww0000gn/T/ipykernel_4067/152893444.py:17: FutureWarning: Series.__getitem__ treating keys as positions is deprecated. In a future version, integer keys will always be treated as labels (consistent with DataFrame behavior). To access a value by position, use `ser.iloc[pos]`\n",
      "  station = row[1].lower()\n",
      "/var/folders/_z/51xkbm4139b206gcdc8fxpww0000gn/T/ipykernel_4067/152893444.py:18: FutureWarning: Series.__getitem__ treating keys as positions is deprecated. In a future version, integer keys will always be treated as labels (consistent with DataFrame behavior). To access a value by position, use `ser.iloc[pos]`\n",
      "  city = row[7].lower()\n"
     ]
    }
   ],
   "source": [
    "import pandas as pd\n",
    "import numpy\n",
    "\n",
    "\n",
    "def extract_unique_station_and_cities():\n",
    "    df = pd.read_csv('./src/liste-des-gares.csv', sep=';')\n",
    "    \n",
    "\n",
    "   \n",
    "    station_list = numpy.array([])\n",
    "    city_list = numpy.array([])\n",
    "\n",
    "    for i in range(len(df)):\n",
    "        row = df.iloc[i]\n",
    "\n",
    "        # Traitement des données\n",
    "        station = row[1].lower()\n",
    "        city = row[7].lower()\n",
    "\n",
    "        station_list = numpy.append(station_list, station)\n",
    "        city_list = numpy.append(city_list, city)\n",
    "    \n",
    "\n",
    "    df_res = pd.DataFrame({\n",
    "        \"Station\": station_list,\n",
    "        \"City\": city_list\n",
    "    })\n",
    "\n",
    "    df_res.to_csv('./format_src/format_data_station_city.csv', sep=\";\")\n",
    "\n",
    "    \n",
    "    \n",
    "\n",
    "extract_unique_station_and_cities()"
   ]
  },
  {
   "cell_type": "code",
   "execution_count": 17,
   "metadata": {},
   "outputs": [
    {
     "name": "stdout",
     "output_type": "stream",
     "text": [
      "      Unnamed: 0                      Station                      City\n",
      "0              0                        chars                     chars\n",
      "1              1                        imphy                     imphy\n",
      "2              2                     verberie                  verberie\n",
      "3              3  vulaines-sur-seine-samoreau        vulaines-sur-seine\n",
      "4              4       montgeroult-courcelles               montgeroult\n",
      "...          ...                          ...                       ...\n",
      "3814        3814                      charmes                   charmes\n",
      "3815        3815                ham-en-artois             ham-en-artois\n",
      "3816        3816                    goxwiller                 goxwiller\n",
      "3817        3817        la chaussée-st-victor  la chaussée-saint-victor\n",
      "3818        3818                   mommenheim                mommenheim\n",
      "\n",
      "[3819 rows x 3 columns]\n",
      "['chars' 'imphy' 'verberie' ... 'ham-en-artois' 'goxwiller'\n",
      " 'la chaussée-saint-victor']\n"
     ]
    }
   ],
   "source": [
    "import spacy\n",
    "# Import the French language model\n",
    "nlp = spacy.load('fr_core_news_sm')\n",
    "\n",
    "# Read csv file\n",
    "csv = pd.read_csv('./format_src/format_data_station_city.csv', sep=';')\n",
    "print(csv)\n",
    "cities = csv['City'].unique()\n",
    "print(cities)"
   ]
  },
  {
   "cell_type": "code",
   "execution_count": 34,
   "metadata": {},
   "outputs": [
    {
     "name": "stdout",
     "output_type": "stream",
     "text": [
      "Gares identifiées : ['paris', 'marseille', 'paris', 'amiens']\n",
      "paris\n"
     ]
    },
    {
     "ename": "ValueError",
     "evalue": "'amiens' is not in list",
     "output_type": "error",
     "traceback": [
      "\u001b[0;31m---------------------------------------------------------------------------\u001b[0m",
      "\u001b[0;31mValueError\u001b[0m                                Traceback (most recent call last)",
      "Cell \u001b[0;32mIn[34], line 11\u001b[0m\n\u001b[1;32m      8\u001b[0m list_cities \u001b[38;5;241m=\u001b[39m [\u001b[38;5;124m'\u001b[39m\u001b[38;5;124mparis\u001b[39m\u001b[38;5;124m'\u001b[39m, \u001b[38;5;124m'\u001b[39m\u001b[38;5;124mmarseille\u001b[39m\u001b[38;5;124m'\u001b[39m, \u001b[38;5;124m'\u001b[39m\u001b[38;5;124mamiens\u001b[39m\u001b[38;5;124m'\u001b[39m]\n\u001b[1;32m     10\u001b[0m \u001b[38;5;28;01mfor\u001b[39;00m city \u001b[38;5;129;01min\u001b[39;00m list_cities:\n\u001b[0;32m---> 11\u001b[0m     index_city \u001b[38;5;241m=\u001b[39m \u001b[43mword_split\u001b[49m\u001b[38;5;241;43m.\u001b[39;49m\u001b[43mindex\u001b[49m\u001b[43m(\u001b[49m\u001b[43mcity\u001b[49m\u001b[43m)\u001b[49m\n\u001b[1;32m     12\u001b[0m     \u001b[38;5;28;01mif\u001b[39;00m index_city \u001b[38;5;241m>\u001b[39m \u001b[38;5;241m1\u001b[39m \u001b[38;5;129;01mand\u001b[39;00m index_city \u001b[38;5;241m<\u001b[39m \u001b[38;5;28mlen\u001b[39m(word_split) \u001b[38;5;241m-\u001b[39m \u001b[38;5;241m1\u001b[39m \u001b[38;5;129;01mand\u001b[39;00m (word_split[index_city\u001b[38;5;241m-\u001b[39m\u001b[38;5;241m1\u001b[39m] \u001b[38;5;129;01min\u001b[39;00m word_list \u001b[38;5;129;01mor\u001b[39;00m word_split[index_city\u001b[38;5;241m+\u001b[39m\u001b[38;5;241m1\u001b[39m] \u001b[38;5;129;01min\u001b[39;00m word_list):\n\u001b[1;32m     13\u001b[0m         \u001b[38;5;28mprint\u001b[39m(city)\n",
      "\u001b[0;31mValueError\u001b[0m: 'amiens' is not in list"
     ]
    }
   ],
   "source": [
    "text = \"Je mange beaucoup de Paris et j'aimerais en manger plus. Je voudrias arriver à Marseille en partant de paris et acheter des pommes à Amiens. \"\n",
    "doc = nlp(text.lower())\n",
    "identified_cities = [ent.text for ent in doc.ents if ent.text in cities]\n",
    "print(\"Gares identifiées :\", identified_cities)\n",
    "\n",
    "word_list = ['je', 'pars', 'de']\n",
    "word_split = text.lower().split(' ')\n",
    "list_cities = ['paris', 'marseille', 'amiens']\n",
    "\n",
    "for city in list_cities:\n",
    "    try:\n",
    "        index_city = word_split.index(city)\n",
    "        if index_city > 1 and index_city < len(word_split) - 1 and (word_split[index_city-1] in word_list or word_split[index_city+1] in word_list):\n",
    "            print(city)\n",
    "    Except:\n",
    "        continue\n",
    "    "
   ]
  }
 ],
 "metadata": {
  "kernelspec": {
   "display_name": "Python 3",
   "language": "python",
   "name": "python3"
  },
  "language_info": {
   "codemirror_mode": {
    "name": "ipython",
    "version": 3
   },
   "file_extension": ".py",
   "mimetype": "text/x-python",
   "name": "python",
   "nbconvert_exporter": "python",
   "pygments_lexer": "ipython3",
   "version": "3.12.1"
  }
 },
 "nbformat": 4,
 "nbformat_minor": 2
}
