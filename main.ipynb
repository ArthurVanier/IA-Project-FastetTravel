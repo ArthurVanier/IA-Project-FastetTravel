{
 "cells": [
  {
   "cell_type": "code",
   "execution_count": 4,
   "metadata": {},
   "outputs": [
    {
     "ename": "IndexError",
     "evalue": "Replacement index 2 out of range for positional args tuple",
     "output_type": "error",
     "traceback": [
      "\u001b[1;31m---------------------------------------------------------------------------\u001b[0m",
      "\u001b[1;31mIndexError\u001b[0m                                Traceback (most recent call last)",
      "Cell \u001b[1;32mIn[4], line 61\u001b[0m\n\u001b[0;32m     56\u001b[0m         training_data\u001b[38;5;241m.\u001b[39mappend({\u001b[38;5;124m\"\u001b[39m\u001b[38;5;124mtext\u001b[39m\u001b[38;5;124m\"\u001b[39m: sentence, \u001b[38;5;124m\"\u001b[39m\u001b[38;5;124mentities\u001b[39m\u001b[38;5;124m\"\u001b[39m: entities})\n\u001b[0;32m     58\u001b[0m     \u001b[38;5;28;01mreturn\u001b[39;00m training_data\n\u001b[1;32m---> 61\u001b[0m \u001b[43mgenerate_training_data\u001b[49m\u001b[43m(\u001b[49m\u001b[38;5;241;43m50\u001b[39;49m\u001b[43m)\u001b[49m\n",
      "Cell \u001b[1;32mIn[4], line 46\u001b[0m, in \u001b[0;36mgenerate_training_data\u001b[1;34m(nbr_data)\u001b[0m\n\u001b[0;32m     22\u001b[0m sentence_template_order_1 \u001b[38;5;241m=\u001b[39m random\u001b[38;5;241m.\u001b[39mchoice([\n\u001b[0;32m     23\u001b[0m     \u001b[38;5;124m\"\u001b[39m\u001b[38;5;124mJe veux voyager de \u001b[39m\u001b[38;5;132;01m{}\u001b[39;00m\u001b[38;5;124m à \u001b[39m\u001b[38;5;132;01m{}\u001b[39;00m\u001b[38;5;124m.\u001b[39m\u001b[38;5;124m\"\u001b[39m,\n\u001b[0;32m     24\u001b[0m     \u001b[38;5;124m\"\u001b[39m\u001b[38;5;124mil faut que j\u001b[39m\u001b[38;5;124m'\u001b[39m\u001b[38;5;124maille à \u001b[39m\u001b[38;5;132;01m{}\u001b[39;00m\u001b[38;5;124m, je suis à \u001b[39m\u001b[38;5;132;01m{}\u001b[39;00m\u001b[38;5;124m\"\u001b[39m,\n\u001b[1;32m   (...)\u001b[0m\n\u001b[0;32m     33\u001b[0m \n\u001b[0;32m     34\u001b[0m ])\n\u001b[0;32m     36\u001b[0m sentence_template_order_2 \u001b[38;5;241m=\u001b[39m random\u001b[38;5;241m.\u001b[39mchoice([\n\u001b[0;32m     37\u001b[0m     \u001b[38;5;124m\"\u001b[39m\u001b[38;5;124mj\u001b[39m\u001b[38;5;124m'\u001b[39m\u001b[38;5;124maimme les Pommes de Amiens, mais je vais à \u001b[39m\u001b[38;5;132;01m{}\u001b[39;00m\u001b[38;5;124m de \u001b[39m\u001b[38;5;132;01m{}\u001b[39;00m\u001b[38;5;124m\"\u001b[39m,\n\u001b[0;32m     38\u001b[0m     \u001b[38;5;124m\"\u001b[39m\u001b[38;5;124mj\u001b[39m\u001b[38;5;124m'\u001b[39m\u001b[38;5;124madore \u001b[39m\u001b[38;5;132;01m{}\u001b[39;00m\u001b[38;5;124m, comment y allez de \u001b[39m\u001b[38;5;132;01m{}\u001b[39;00m\u001b[38;5;124m\"\u001b[39m,\n\u001b[1;32m   (...)\u001b[0m\n\u001b[0;32m     42\u001b[0m \n\u001b[0;32m     43\u001b[0m ])\n\u001b[1;32m---> 46\u001b[0m sentence \u001b[38;5;241m=\u001b[39m \u001b[43msentence_template_order_1\u001b[49m\u001b[38;5;241;43m.\u001b[39;49m\u001b[43mformat\u001b[49m\u001b[43m(\u001b[49m\u001b[43mfrom_city\u001b[49m\u001b[43m,\u001b[49m\u001b[43m \u001b[49m\u001b[43mto_city\u001b[49m\u001b[43m)\u001b[49m \u001b[38;5;28;01mif\u001b[39;00m is_order_1 \u001b[38;5;28;01melse\u001b[39;00m sentence_template_order_2\u001b[38;5;241m.\u001b[39mformat(to_city, from_city)\n\u001b[0;32m     49\u001b[0m start_from \u001b[38;5;241m=\u001b[39m sentence\u001b[38;5;241m.\u001b[39mfind(from_city)\n\u001b[0;32m     50\u001b[0m start_to \u001b[38;5;241m=\u001b[39m sentence\u001b[38;5;241m.\u001b[39mfind(to_city)\n",
      "\u001b[1;31mIndexError\u001b[0m: Replacement index 2 out of range for positional args tuple"
     ]
    }
   ],
   "source": [
    "from faker import Faker\n",
    "import random\n",
    "\n",
    "fake = Faker(\"fr_FR\")  # French locale\n",
    "\n",
    "def generate_training_data(nbr_data: int):\n",
    "    training_data = []\n",
    "\n",
    "    for _ in range(nbr_data):\n",
    "        from_city = fake.city()\n",
    "        to_city = fake.city()\n",
    "\n",
    "        # Ensure unique cities\n",
    "        while to_city == from_city:\n",
    "            to_city = fake.city()\n",
    "\n",
    "        if random.choice([True, False]):\n",
    "            from_city, to_city = to_city, from_city\n",
    "        \n",
    "        is_order_1 = random.choice([True, False, True])\n",
    "\n",
    "        sentence_template_order_1 = random.choice([\n",
    "            \"Je veux voyager de {} à {}.\",\n",
    "            \"il faut que j'aille à {}, je suis à {}\",\n",
    "            \"je dois faire le trajet {} {}\",\n",
    "            \"{} {}\",\n",
    "            \"je suis à {} et j'aimerai allez à {}\",\n",
    "            \"de {} comment se rendre à {}\",\n",
    "            \"je suis perdu, je pense etre pas loin de {} et je dois allez à {}\",\n",
    "            \"depuis hier je pense allez à {}, mais j'ai peur du trajet depuis {}\",\n",
    "            \"gare de {} gare de {}\"\n",
    "            \n",
    "\n",
    "        ])\n",
    "\n",
    "        sentence_template_order_2 = random.choice([\n",
    "            \"j'aimme les Pommes de Amiens, mais je vais à {} de {}\",\n",
    "            \"j'adore {}, comment y allez de {}\",\n",
    "            \"je dois me de rendre à {} mais je suis à {}\",\n",
    "            \"c'est super {}, comment y allez de {}\",\n",
    "            \"je suis pas loin de Paris mais je dois allez à {} depuis {}\"\n",
    "\n",
    "        ])\n",
    "\n",
    "\n",
    "        sentence = sentence_template_order_1.format(from_city, to_city) if is_order_1 else sentence_template_order_2.format(to_city, from_city)\n",
    "        \n",
    "        \n",
    "        start_from = sentence.find(from_city)\n",
    "        start_to = sentence.find(to_city)\n",
    "\n",
    "        entities = [\n",
    "                {\"start\": start_from, \"end\": start_from + len(from_city), \"label\": \"FROM\"},\n",
    "                {\"start\": start_to, \"end\": start_to + len(to_city), \"label\": \"TO\"}\n",
    "            ]\n",
    "        training_data.append({\"text\": sentence, \"entities\": entities})\n",
    "\n",
    "    return training_data\n",
    "\n",
    "\n",
    "generate_training_data(50)\n"
   ]
  },
  {
   "cell_type": "code",
   "execution_count": 18,
   "metadata": {},
   "outputs": [
    {
     "name": "stderr",
     "output_type": "stream",
     "text": [
      "C:\\Users\\arthu\\AppData\\Local\\Temp\\ipykernel_27144\\152893444.py:17: FutureWarning: Series.__getitem__ treating keys as positions is deprecated. In a future version, integer keys will always be treated as labels (consistent with DataFrame behavior). To access a value by position, use `ser.iloc[pos]`\n",
      "  station = row[1].lower()\n",
      "C:\\Users\\arthu\\AppData\\Local\\Temp\\ipykernel_27144\\152893444.py:18: FutureWarning: Series.__getitem__ treating keys as positions is deprecated. In a future version, integer keys will always be treated as labels (consistent with DataFrame behavior). To access a value by position, use `ser.iloc[pos]`\n",
      "  city = row[7].lower()\n"
     ]
    }
   ],
   "source": [
    "import pandas as pd\n",
    "import numpy\n",
    "\n",
    "\n",
    "def extract_unique_station_and_cities():\n",
    "    df = pd.read_csv('./src/liste-des-gares.csv', sep=';')\n",
    "    \n",
    "\n",
    "   \n",
    "    station_list = numpy.array([])\n",
    "    city_list = numpy.array([])\n",
    "\n",
    "    for i in range(len(df)):\n",
    "        row = df.iloc[i]\n",
    "\n",
    "        # Traitement des données\n",
    "        station = row[1].lower()\n",
    "        city = row[7].lower()\n",
    "\n",
    "        station_list = numpy.append(station_list, station)\n",
    "        city_list = numpy.append(city_list, city)\n",
    "    \n",
    "\n",
    "    df_res = pd.DataFrame({\n",
    "        \"Station\": station_list,\n",
    "        \"City\": city_list\n",
    "    })\n",
    "\n",
    "    df_res.to_csv('./format_src/format_data_station_city.csv', sep=\";\")\n",
    "\n",
    "    \n",
    "    \n",
    "\n",
    "extract_unique_station_and_cities()"
   ]
  }
 ],
 "metadata": {
  "kernelspec": {
   "display_name": "Python 3",
   "language": "python",
   "name": "python3"
  },
  "language_info": {
   "codemirror_mode": {
    "name": "ipython",
    "version": 3
   },
   "file_extension": ".py",
   "mimetype": "text/x-python",
   "name": "python",
   "nbconvert_exporter": "python",
   "pygments_lexer": "ipython3",
   "version": "3.12.0"
  }
 },
 "nbformat": 4,
 "nbformat_minor": 2
}
