{
 "cells": [
  {
   "cell_type": "code",
   "execution_count": 18,
   "metadata": {},
   "outputs": [
    {
     "name": "stderr",
     "output_type": "stream",
     "text": [
      "C:\\Users\\arthu\\AppData\\Local\\Temp\\ipykernel_27144\\152893444.py:17: FutureWarning: Series.__getitem__ treating keys as positions is deprecated. In a future version, integer keys will always be treated as labels (consistent with DataFrame behavior). To access a value by position, use `ser.iloc[pos]`\n",
      "  station = row[1].lower()\n",
      "C:\\Users\\arthu\\AppData\\Local\\Temp\\ipykernel_27144\\152893444.py:18: FutureWarning: Series.__getitem__ treating keys as positions is deprecated. In a future version, integer keys will always be treated as labels (consistent with DataFrame behavior). To access a value by position, use `ser.iloc[pos]`\n",
      "  city = row[7].lower()\n"
     ]
    }
   ],
   "source": [
    "import pandas as pd\n",
    "import numpy\n",
    "\n",
    "\n",
    "def extract_unique_station_and_cities():\n",
    "    df = pd.read_csv('./src/liste-des-gares.csv', sep=';')\n",
    "    \n",
    "\n",
    "   \n",
    "    station_list = numpy.array([])\n",
    "    city_list = numpy.array([])\n",
    "\n",
    "    for i in range(len(df)):\n",
    "        row = df.iloc[i]\n",
    "\n",
    "        # Traitement des données\n",
    "        station = row[1].lower()\n",
    "        city = row[7].lower()\n",
    "\n",
    "        station_list = numpy.append(station_list, station)\n",
    "        city_list = numpy.append(city_list, city)\n",
    "    \n",
    "\n",
    "    df_res = pd.DataFrame({\n",
    "        \"Station\": station_list,\n",
    "        \"City\": city_list\n",
    "    })\n",
    "\n",
    "    df_res.to_csv('./format_src/format_data_station_city.csv', sep=\";\")\n",
    "\n",
    "    \n",
    "    \n",
    "\n",
    "extract_unique_station_and_cities()"
   ]
  }
 ],
 "metadata": {
  "kernelspec": {
   "display_name": "Python 3",
   "language": "python",
   "name": "python3"
  },
  "language_info": {
   "codemirror_mode": {
    "name": "ipython",
    "version": 3
   },
   "file_extension": ".py",
   "mimetype": "text/x-python",
   "name": "python",
   "nbconvert_exporter": "python",
   "pygments_lexer": "ipython3",
   "version": "3.12.0"
  }
 },
 "nbformat": 4,
 "nbformat_minor": 2
}
